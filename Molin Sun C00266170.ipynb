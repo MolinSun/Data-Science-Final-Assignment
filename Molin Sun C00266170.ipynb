{
 "cells": [
  {
   "cell_type": "markdown",
   "metadata": {},
   "source": [
    "# Data Science & Artificial Intelligence Final Examination Alternative Continuous Assessment\n",
    "## Student Name: Molin Sun\n",
    "## Student Number: C00266170"
   ]
  },
  {
   "cell_type": "markdown",
   "metadata": {},
   "source": [
    "## 1 Data Pre-processing\n",
    "### 1.1 Introduction\n",
    "#### 1.1.1 Purpose\n",
    "* Data preprocessing is to process raw data \n",
    "* In the real world,data is durty. They are always incomplete,noisy and inconsistent.\n",
    "  * Incomplete: lacking attribute value\n",
    "* Data preprocessing is to make these durty data easier to be interpreted by the algorithm.\n",
    "\n",
    "#### 1.1.2 Quality data\n",
    "### 1.2 Task of preprocessing\n",
    "#### 1.2.1 Data cleaning\n",
    "#### 1.2.2 Data integration\n",
    "#### 1.2.3 Data transformation\n",
    "#### 1.2.4 Data reduction\n",
    "#### 1.2.5 Data discretisation\n",
    "### 1.3 Implementation\n",
    "### 1.4 Application\n",
    "### 1.5 Conclusion\n",
    "### 1.6 Presentation"
   ]
  },
  {
   "attachments": {
    "image-2.png": {
     "image/png": "[encoded data removed]"
    }
   },
   "cell_type": "markdown",
   "metadata": {},
   "source": [
    "## 2 Decision Trees\n",
    "### 2.1 Introduction\n",
    "* Decision trees are a supervised learning method that creates a tree-like model to divide a large heterogeneous data set into smaller data sets based on different conditions.\n",
    "* Decision trees are used for classification and regression\n",
    "* The goal of Decision trees is to create a model that can predict the value of the target variable by learning decision rules.\n",
    "* The figure shown below is an example of decision tree\n",
    "![avatar](Desktop\\DecisionTree.png)\n",
    "\n",
    "* For this  simple example, it uses some rules to predict the species of animals. The model uses 3 attributes from the data set, namely feather, fly and finn.\n",
    "* As shown above, a decision tree is drawn upside down with its root at the top. The sentences with question marks represent conditions or internal node to split a node into branches. And the end of branch is leaf node representing class label.\n",
    "\n",
    "### 2.2 ID3 algorithm\n",
    "#### 2.2.1 Introduction\n",
    "* Is an algorithm used to generate a decision tree from a data set in a decision tree. \n",
    "* Is used to select the best attributes which can best split the data set.\n",
    "* Is a greedy algorithm.\n",
    "* The steps of the algorithm:\n",
    " * select the best attribute using the decreasing speed of information entropy as the standard \n",
    " * Use the selected best attributes as the decision node and use the different value of the attributes to split remaining instances\n",
    " * Repeat the previous step recursively for each child node\n",
    " * If all instances are perfectly classified, stop the iteration.\n",
    "\n",
    "#### 2.2.2 Entropy\n",
    "* Entropy is a measure of order in a system. The more ordered a system is, the lower entropy the system has.\n",
    "  * Expression: Entropy(S) = ∑(i=1 to l)-|Si|/|S| * log2(|Si|/|S|)\n",
    "  * S is the set of examples\n",
    "  * Si is a subset of S whose value is vi under the target attribute\n",
    "  * l is the size of the range of the target attribute\n",
    "* Example\n",
    "  * In the example dataset, there is one special attribute(whether the person will buy the computer) and four regular attributes(age, income, student and credit).\n",
    "![avatar](Desktop\\Table.png)\n",
    "  * Calculate entropy : as shown in the table, there are 14 examples, 9 positive and 5 negatives.So the entropy of S relative to this classification is \n",
    "    * Entropy(S) = -(9/14)log2(9/14)-(5/14)log2(5/14) = 0.9403\n",
    "  * Calculate entropy of other attributes using expression :\n",
    "   * ∑(i=1 to k)|Si|/|S|Entropy(Si)  (k refers to the range of the attribute we are testing)\n",
    "    * Age\n",
    "     * Entropy(young) = -(2/5)log2(2/5)-(3/5)log2(3/5) = 0.970\n",
    "     * Entropy(medium) = -(4/4)log2(4/4)-(0/4)log2(0/4) = 0 \n",
    "     * Entropy(old) = -(3/5)log2(3/5)-(2/5)log2(2/5) = 0.970\n",
    "     * Entropy(Age|S) = 5/14*Entropy(young) + 4/14*Entropy(medium)+5/14*Entropy(old) = 0.6935\n",
    "    * Income\n",
    "     * Entropy(high) = -(2/4)log2(2/4)-(2/4)log2(2/4) = 1\n",
    "     * Entropy(medium) = -(4/6)log2(4/6)-(2/6)log2(2/6) = 0.9183 \n",
    "     * Entropy(low) = -(3/4)log2(3/4)-(1/4)log2(1/4) = 0.8113\n",
    "     * Entropy(Income|S) = 4/14*Entropy(high) + 6/14*Entropy(medium)+4/14*Entropy(low) = 0.9111\n",
    "    * Student\n",
    "     * Entropy(yse) = -(6/7)log2(6/7)-(1/7)log2(1/7) = 0.5917\n",
    "     * Entropy(no) = -(4/7)log2(4/7)-(3/7)log2(3/7) = 0.9852\n",
    "     * Entropy(Student|S) = 7/14*Entropy(yes) + 7/14*Entropy(no) = 0.7885\n",
    "    * Credit\n",
    "     * Entropy(good) = -(6/8)log2(6/8)-(2/8)log2(2/8) = 0.8113\n",
    "     * Entropy(excellent) = -(3/6)log2(3/6)-(3/6)log2(3/6) = 1 \n",
    "     * Entropy(Credit|S) = 8/14*Entropy(good) + 6/14*Entropy(excellent)=0.8922\n",
    "     \n",
    "#### 2.2.3 Information Gain\n",
    "* The best attribute has the greatest reduction in entropy. So information gain is the expected reduction in entropy using A attribute to split the data set.\n",
    "  ![image-2.png](attachment:image-2.png)\n",
    "* The expression shown above equal: Gain(S，A) = Entropy(S) - Entropy(A|S)\n",
    "* Calculate Information gain(using the example mentioned above)\n",
    "  * Gain(S,Age)= Entropy(S) - Entropy(Age|S) = 0.9403 - 0.6935 = 0.2468\n",
    "  * Gain(S,Income)= Entropy(S) - Entropy(Income|S) = 0.9403 - 0.9111 = 0.0292\n",
    "  * Gain(S,Student)= Entropy(S) - Entropy(Student|S) = 0.9403 - 0.7885 = 0.1518\n",
    "  * Gain(S,Credit)= Entropy(S) - Entropy(Credit|S) = 0.9403 - 0.8922 = 0.0481\n",
    "* As a result, age is the best attribute to split the data set.\n",
    "\n",
    "### 2.3 Implementation"
   ]
  },
  {
   "cell_type": "markdown",
   "metadata": {},
   "source": [
    "### 2.4 Application\n",
    "### 2.5 Conclusion\n",
    "* Advantages\n",
    " * Decision trees is easy to understand, interpret and visualize\n",
    " * Work well on discrete and categorical variables\n",
    "* Disadvantages\n",
    " * When a learner creates a over-complex tree, which will lead to overfitting.\n",
    "* Recommendations for future learning\n",
    "\n",
    "### 2.6 Presentation"
   ]
  },
  {
   "cell_type": "markdown",
   "metadata": {},
   "source": [
    "## 3 Bayesian Classifier\n",
    "### 3.1 Introduction\n",
    "### 3.2 How does Bayesian Classifier work\n",
    "##### 3.2.1.1 Probabilities\n",
    "##### 3.2.1.2  Conduct classifier\n",
    "### 3.3 Implementation\n",
    "### 3.4 Application\n",
    "### 3.5 Conclusion\n",
    "### 3.6 Presentation"
   ]
  },
  {
   "cell_type": "markdown",
   "metadata": {},
   "source": [
    "## 4 K-Nearest  Neighbour Algorithm\n",
    "### 4.1 Introduction\n",
    "### 4.2 How does K-NN work?\n",
    "#### 4.2.1 How to choose the value of K \n",
    "#### 4.2.2 Euclidean distance\n",
    "#### 4.2.3 K-NN algorithm\n",
    "### 4.3 Implementation\n",
    "### 4.4 Application\n",
    "### 4.5 Conclusion\n",
    "### 4.6 Presentation"
   ]
  },
  {
   "cell_type": "markdown",
   "metadata": {},
   "source": [
    "## 5 Support vector machine\n",
    "### 5.1 Introduction\n",
    "### 5.2 How does SVM work\n",
    "#### 5.2.1 Linear Separators\n",
    "#### 5.2.2 Margin\n",
    "### 5.3 Implementation\n",
    "### 5.4 Application\n",
    "### 5.5 Conclusion\n",
    "### 5.6 Presentation"
   ]
  },
  {
   "cell_type": "markdown",
   "metadata": {},
   "source": [
    "## 6 References"
   ]
  }
 ],
 "metadata": {
  "kernelspec": {
   "display_name": "Python 3",
   "language": "python",
   "name": "python3"
  },
  "language_info": {
   "codemirror_mode": {
    "name": "ipython",
    "version": 3
   },
   "file_extension": ".py",
   "mimetype": "text/x-python",
   "name": "python",
   "nbconvert_exporter": "python",
   "pygments_lexer": "ipython3",
   "version": "3.7.3"
  }
 },
 "nbformat": 4,
 "nbformat_minor": 4
}
